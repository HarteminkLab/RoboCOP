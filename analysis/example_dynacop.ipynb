{
 "cells": [
  {
   "cell_type": "code",
   "execution_count": 13,
   "metadata": {},
   "outputs": [],
   "source": [
    "# include path to RoboCOP directory\n",
    "import sys\n",
    "sys.path.insert(0, '../pkg/')\n",
    "from robocop_diff import nuc_diff_map, tf_diff_map, get_diff_tfs\n",
    "from robocop_diff.robocop_diff_plot import plot_diff_cop"
   ]
  },
  {
   "cell_type": "markdown",
   "metadata": {},
   "source": [
    "We first ran RoboCOP on 5 separate MNase-seq data sets of cadmium treatment. Here are the names of the five RoboCOP output directories."
   ]
  },
  {
   "cell_type": "code",
   "execution_count": 2,
   "metadata": {},
   "outputs": [],
   "source": [
    "dirname1 = '../../../robocop_cd_DM504_Chr1_16/'\n",
    "dirname2 = '../../../robocop_cd_DM505_Chr1_16_new/'\n",
    "dirname3 = '../../../robocop_cd_DM506_Chr1_16_new/'\n",
    "dirname4 = '../../../robocop_cd_DM507_Chr1_16/'\n",
    "dirname5 = '../../../robocop_cd_DM508_Chr1_16/'\n",
    "dirnames = [dirname1, dirname2, dirname3, dirname4, dirname5]"
   ]
  },
  {
   "cell_type": "code",
   "execution_count": 5,
   "metadata": {},
   "outputs": [],
   "source": [
    "# output directory for DynaCOP output\n",
    "outdir = '../../../robocop_diff_cd_DM504_DM505_DM506_DM507_DM508/'"
   ]
  },
  {
   "cell_type": "markdown",
   "metadata": {},
   "source": [
    "## Create nucleosome linkage map"
   ]
  },
  {
   "cell_type": "markdown",
   "metadata": {},
   "source": [
    "Create nucleosome linkage map by calling ```nuc_map_multiple```. The function first calls nucleosome dyads individually from the RoboCOP outputs. It then links the nucleosomes across the outputs to form a genome-wide nucleosome map for the given sets of data. Note that the nucleosomes are linked with an assumption that there exists an order in the set out RoboCOP outputs. For example, in our case we have a time series experiment of cadmium treatment of yeast cells. In case there is no order, the dirnames need to be provided in a sequence that the users seem fit."
   ]
  },
  {
   "cell_type": "code",
   "execution_count": 6,
   "metadata": {},
   "outputs": [],
   "source": [
    "nuc_df = nuc_diff_map.nuc_map_multiple(dirnames, outdir)  "
   ]
  },
  {
   "cell_type": "markdown",
   "metadata": {},
   "source": [
    "Columns of ```nuc_df```:\n",
    "\n",
    "* **chr:** chromosome\n",
    "\n",
    "* **dyadX:** nucleosome dyad; the dyad position in different RoboCOP outputs are denoted as dyadA, dyadB,...\n",
    "\n",
    "* **occupancyX:** Nucleosome posterior as predicted by RoboCOP; the occupancy in the different data sets are denoted as occupancyA, occupancyB,...\n",
    "\n",
    "* **pdyadX:** Nucleosome dyad posterior as predicted by RoboCOP; the dyaad posterior is denoted as pdyadA, pdyadB, ...\n",
    "\n",
    "* **shift_XY:** Shift in nucleosome dyad between two consecutive RoboCOP outputs. Shift calculated as dyadY - dyadX"
   ]
  },
  {
   "cell_type": "code",
   "execution_count": 7,
   "metadata": {},
   "outputs": [
    {
     "data": {
      "text/html": [
       "<div>\n",
       "<style scoped>\n",
       "    .dataframe tbody tr th:only-of-type {\n",
       "        vertical-align: middle;\n",
       "    }\n",
       "\n",
       "    .dataframe tbody tr th {\n",
       "        vertical-align: top;\n",
       "    }\n",
       "\n",
       "    .dataframe thead th {\n",
       "        text-align: right;\n",
       "    }\n",
       "</style>\n",
       "<table border=\"1\" class=\"dataframe\">\n",
       "  <thead>\n",
       "    <tr style=\"text-align: right;\">\n",
       "      <th></th>\n",
       "      <th>chr</th>\n",
       "      <th>dyadA</th>\n",
       "      <th>dyadB</th>\n",
       "      <th>occupancyA</th>\n",
       "      <th>occupancyB</th>\n",
       "      <th>pdyadA</th>\n",
       "      <th>pdyadB</th>\n",
       "      <th>shift_AB</th>\n",
       "      <th>dyadC</th>\n",
       "      <th>occupancyC</th>\n",
       "      <th>...</th>\n",
       "      <th>pdyadC</th>\n",
       "      <th>dyadD</th>\n",
       "      <th>occupancyD</th>\n",
       "      <th>shift_CD</th>\n",
       "      <th>pdyadD</th>\n",
       "      <th>dyadE</th>\n",
       "      <th>occupancyE</th>\n",
       "      <th>shift_DE</th>\n",
       "      <th>pdyadE</th>\n",
       "      <th>name</th>\n",
       "    </tr>\n",
       "  </thead>\n",
       "  <tbody>\n",
       "    <tr>\n",
       "      <th>0</th>\n",
       "      <td>chrI</td>\n",
       "      <td>229.0</td>\n",
       "      <td>216.0</td>\n",
       "      <td>0.999942</td>\n",
       "      <td>0.984759</td>\n",
       "      <td>0.315144</td>\n",
       "      <td>0.182249</td>\n",
       "      <td>-13.0</td>\n",
       "      <td>230.0</td>\n",
       "      <td>0.999783</td>\n",
       "      <td>...</td>\n",
       "      <td>0.334864</td>\n",
       "      <td>222.0</td>\n",
       "      <td>0.975525</td>\n",
       "      <td>-8.0</td>\n",
       "      <td>0.163414</td>\n",
       "      <td>229.0</td>\n",
       "      <td>0.999758</td>\n",
       "      <td>7.0</td>\n",
       "      <td>0.251794</td>\n",
       "      <td>nuc_0</td>\n",
       "    </tr>\n",
       "    <tr>\n",
       "      <th>1</th>\n",
       "      <td>chrI</td>\n",
       "      <td>389.0</td>\n",
       "      <td>389.0</td>\n",
       "      <td>0.999969</td>\n",
       "      <td>0.996902</td>\n",
       "      <td>0.270605</td>\n",
       "      <td>0.136205</td>\n",
       "      <td>0.0</td>\n",
       "      <td>404.0</td>\n",
       "      <td>0.997403</td>\n",
       "      <td>...</td>\n",
       "      <td>0.170422</td>\n",
       "      <td>385.0</td>\n",
       "      <td>0.997682</td>\n",
       "      <td>-19.0</td>\n",
       "      <td>0.277604</td>\n",
       "      <td>381.0</td>\n",
       "      <td>0.999992</td>\n",
       "      <td>-4.0</td>\n",
       "      <td>0.275946</td>\n",
       "      <td>nuc_1</td>\n",
       "    </tr>\n",
       "    <tr>\n",
       "      <th>2</th>\n",
       "      <td>chrI</td>\n",
       "      <td>866.0</td>\n",
       "      <td>864.0</td>\n",
       "      <td>0.999993</td>\n",
       "      <td>0.999912</td>\n",
       "      <td>0.427427</td>\n",
       "      <td>0.518984</td>\n",
       "      <td>-2.0</td>\n",
       "      <td>864.0</td>\n",
       "      <td>0.999965</td>\n",
       "      <td>...</td>\n",
       "      <td>0.636082</td>\n",
       "      <td>864.0</td>\n",
       "      <td>0.999907</td>\n",
       "      <td>0.0</td>\n",
       "      <td>0.462330</td>\n",
       "      <td>865.0</td>\n",
       "      <td>0.999345</td>\n",
       "      <td>1.0</td>\n",
       "      <td>0.277971</td>\n",
       "      <td>nuc_2</td>\n",
       "    </tr>\n",
       "    <tr>\n",
       "      <th>3</th>\n",
       "      <td>chrI</td>\n",
       "      <td>1179.0</td>\n",
       "      <td>NaN</td>\n",
       "      <td>0.889191</td>\n",
       "      <td>NaN</td>\n",
       "      <td>0.272899</td>\n",
       "      <td>NaN</td>\n",
       "      <td>NaN</td>\n",
       "      <td>NaN</td>\n",
       "      <td>NaN</td>\n",
       "      <td>...</td>\n",
       "      <td>NaN</td>\n",
       "      <td>NaN</td>\n",
       "      <td>NaN</td>\n",
       "      <td>NaN</td>\n",
       "      <td>NaN</td>\n",
       "      <td>NaN</td>\n",
       "      <td>NaN</td>\n",
       "      <td>NaN</td>\n",
       "      <td>NaN</td>\n",
       "      <td>nuc_3</td>\n",
       "    </tr>\n",
       "    <tr>\n",
       "      <th>4</th>\n",
       "      <td>chrI</td>\n",
       "      <td>1582.0</td>\n",
       "      <td>1588.0</td>\n",
       "      <td>0.999886</td>\n",
       "      <td>0.999997</td>\n",
       "      <td>0.310744</td>\n",
       "      <td>0.247687</td>\n",
       "      <td>6.0</td>\n",
       "      <td>1580.0</td>\n",
       "      <td>0.998400</td>\n",
       "      <td>...</td>\n",
       "      <td>0.277184</td>\n",
       "      <td>1582.0</td>\n",
       "      <td>0.999767</td>\n",
       "      <td>2.0</td>\n",
       "      <td>0.149365</td>\n",
       "      <td>1580.0</td>\n",
       "      <td>0.997392</td>\n",
       "      <td>-2.0</td>\n",
       "      <td>0.153465</td>\n",
       "      <td>nuc_4</td>\n",
       "    </tr>\n",
       "  </tbody>\n",
       "</table>\n",
       "<p>5 rows × 21 columns</p>\n",
       "</div>"
      ],
      "text/plain": [
       "    chr   dyadA   dyadB  occupancyA  occupancyB    pdyadA    pdyadB  shift_AB  \\\n",
       "0  chrI   229.0   216.0    0.999942    0.984759  0.315144  0.182249     -13.0   \n",
       "1  chrI   389.0   389.0    0.999969    0.996902  0.270605  0.136205       0.0   \n",
       "2  chrI   866.0   864.0    0.999993    0.999912  0.427427  0.518984      -2.0   \n",
       "3  chrI  1179.0     NaN    0.889191         NaN  0.272899       NaN       NaN   \n",
       "4  chrI  1582.0  1588.0    0.999886    0.999997  0.310744  0.247687       6.0   \n",
       "\n",
       "    dyadC  occupancyC  ...    pdyadC   dyadD  occupancyD  shift_CD    pdyadD  \\\n",
       "0   230.0    0.999783  ...  0.334864   222.0    0.975525      -8.0  0.163414   \n",
       "1   404.0    0.997403  ...  0.170422   385.0    0.997682     -19.0  0.277604   \n",
       "2   864.0    0.999965  ...  0.636082   864.0    0.999907       0.0  0.462330   \n",
       "3     NaN         NaN  ...       NaN     NaN         NaN       NaN       NaN   \n",
       "4  1580.0    0.998400  ...  0.277184  1582.0    0.999767       2.0  0.149365   \n",
       "\n",
       "    dyadE  occupancyE  shift_DE    pdyadE   name  \n",
       "0   229.0    0.999758       7.0  0.251794  nuc_0  \n",
       "1   381.0    0.999992      -4.0  0.275946  nuc_1  \n",
       "2   865.0    0.999345       1.0  0.277971  nuc_2  \n",
       "3     NaN         NaN       NaN       NaN  nuc_3  \n",
       "4  1580.0    0.997392      -2.0  0.153465  nuc_4  \n",
       "\n",
       "[5 rows x 21 columns]"
      ]
     },
     "execution_count": 7,
     "metadata": {},
     "output_type": "execute_result"
    }
   ],
   "source": [
    "nuc_df.head()"
   ]
  },
  {
   "cell_type": "markdown",
   "metadata": {},
   "source": [
    "## Create TF difference table"
   ]
  },
  {
   "cell_type": "markdown",
   "metadata": {},
   "source": [
    "Get TF binding sites that bind with probability > 0.1 in at least one of the RoboCOP outputs."
   ]
  },
  {
   "cell_type": "code",
   "execution_count": 10,
   "metadata": {},
   "outputs": [],
   "source": [
    "tf_sites = get_diff_tfs.get_tf_diff(dirnames, outdir) "
   ]
  },
  {
   "cell_type": "markdown",
   "metadata": {},
   "source": [
    "Columns of ```tf_sites```:\n",
    "    \n",
    "* **chr:** chromosome\n",
    "        \n",
    "* **start:** start of TF binding site\n",
    "        \n",
    "* **end**: end of TF binding site\n",
    "        \n",
    "* **scoreX:** posterior of TF binding at predicted by RoboCOP\n",
    "        \n",
    "* **TF:** name of TF"
   ]
  },
  {
   "cell_type": "code",
   "execution_count": 11,
   "metadata": {},
   "outputs": [
    {
     "data": {
      "text/html": [
       "<div>\n",
       "<style scoped>\n",
       "    .dataframe tbody tr th:only-of-type {\n",
       "        vertical-align: middle;\n",
       "    }\n",
       "\n",
       "    .dataframe tbody tr th {\n",
       "        vertical-align: top;\n",
       "    }\n",
       "\n",
       "    .dataframe thead th {\n",
       "        text-align: right;\n",
       "    }\n",
       "</style>\n",
       "<table border=\"1\" class=\"dataframe\">\n",
       "  <thead>\n",
       "    <tr style=\"text-align: right;\">\n",
       "      <th></th>\n",
       "      <th>chr</th>\n",
       "      <th>start</th>\n",
       "      <th>end</th>\n",
       "      <th>scoreA</th>\n",
       "      <th>scoreB</th>\n",
       "      <th>scoreC</th>\n",
       "      <th>scoreD</th>\n",
       "      <th>scoreE</th>\n",
       "      <th>TF</th>\n",
       "    </tr>\n",
       "  </thead>\n",
       "  <tbody>\n",
       "    <tr>\n",
       "      <th>0</th>\n",
       "      <td>chrXII</td>\n",
       "      <td>460398.0</td>\n",
       "      <td>460405.0</td>\n",
       "      <td>1.0</td>\n",
       "      <td>0.0</td>\n",
       "      <td>0.0</td>\n",
       "      <td>0.0</td>\n",
       "      <td>0.0</td>\n",
       "      <td>YRM1</td>\n",
       "    </tr>\n",
       "    <tr>\n",
       "      <th>1</th>\n",
       "      <td>chrXII</td>\n",
       "      <td>460370.0</td>\n",
       "      <td>460377.0</td>\n",
       "      <td>1.0</td>\n",
       "      <td>0.0</td>\n",
       "      <td>0.0</td>\n",
       "      <td>0.0</td>\n",
       "      <td>0.0</td>\n",
       "      <td>YRM1</td>\n",
       "    </tr>\n",
       "    <tr>\n",
       "      <th>2</th>\n",
       "      <td>chrXII</td>\n",
       "      <td>459967.0</td>\n",
       "      <td>459974.0</td>\n",
       "      <td>1.0</td>\n",
       "      <td>0.0</td>\n",
       "      <td>0.0</td>\n",
       "      <td>0.0</td>\n",
       "      <td>0.0</td>\n",
       "      <td>YRM1</td>\n",
       "    </tr>\n",
       "    <tr>\n",
       "      <th>3</th>\n",
       "      <td>chrXII</td>\n",
       "      <td>459860.0</td>\n",
       "      <td>459867.0</td>\n",
       "      <td>1.0</td>\n",
       "      <td>0.0</td>\n",
       "      <td>0.0</td>\n",
       "      <td>0.0</td>\n",
       "      <td>0.0</td>\n",
       "      <td>YRM1</td>\n",
       "    </tr>\n",
       "    <tr>\n",
       "      <th>4</th>\n",
       "      <td>chrXII</td>\n",
       "      <td>460384.0</td>\n",
       "      <td>460391.0</td>\n",
       "      <td>1.0</td>\n",
       "      <td>0.0</td>\n",
       "      <td>0.0</td>\n",
       "      <td>0.0</td>\n",
       "      <td>0.0</td>\n",
       "      <td>YRM1</td>\n",
       "    </tr>\n",
       "  </tbody>\n",
       "</table>\n",
       "</div>"
      ],
      "text/plain": [
       "      chr     start       end  scoreA  scoreB  scoreC  scoreD  scoreE    TF\n",
       "0  chrXII  460398.0  460405.0     1.0     0.0     0.0     0.0     0.0  YRM1\n",
       "1  chrXII  460370.0  460377.0     1.0     0.0     0.0     0.0     0.0  YRM1\n",
       "2  chrXII  459967.0  459974.0     1.0     0.0     0.0     0.0     0.0  YRM1\n",
       "3  chrXII  459860.0  459867.0     1.0     0.0     0.0     0.0     0.0  YRM1\n",
       "4  chrXII  460384.0  460391.0     1.0     0.0     0.0     0.0     0.0  YRM1"
      ]
     },
     "execution_count": 11,
     "metadata": {},
     "output_type": "execute_result"
    }
   ],
   "source": [
    "tf_sites.head()"
   ]
  },
  {
   "cell_type": "markdown",
   "metadata": {},
   "source": [
    "# Plot DynaCOP output for a segment"
   ]
  },
  {
   "cell_type": "code",
   "execution_count": 15,
   "metadata": {},
   "outputs": [
    {
     "ename": "NoSectionError",
     "evalue": "No section: 'main'",
     "output_type": "error",
     "traceback": [
      "\u001b[0;31m---------------------------------------------------------------------------\u001b[0m",
      "\u001b[0;31mNoSectionError\u001b[0m                            Traceback (most recent call last)",
      "\u001b[0;32m<ipython-input-15-561bead88ea0>\u001b[0m in \u001b[0;36m<module>\u001b[0;34m\u001b[0m\n\u001b[1;32m      2\u001b[0m \u001b[0mstart\u001b[0m \u001b[0;34m=\u001b[0m \u001b[0;36m212000\u001b[0m\u001b[0;34m\u001b[0m\u001b[0;34m\u001b[0m\u001b[0m\n\u001b[1;32m      3\u001b[0m \u001b[0mend\u001b[0m \u001b[0;34m=\u001b[0m \u001b[0;36m213800\u001b[0m\u001b[0;34m\u001b[0m\u001b[0;34m\u001b[0m\u001b[0m\n\u001b[0;32m----> 4\u001b[0;31m \u001b[0mplot_diff_cop\u001b[0m\u001b[0;34m(\u001b[0m\u001b[0moutdir\u001b[0m\u001b[0;34m,\u001b[0m \u001b[0mdirnames\u001b[0m\u001b[0;34m,\u001b[0m \u001b[0mchrm\u001b[0m\u001b[0;34m,\u001b[0m \u001b[0mstart\u001b[0m\u001b[0;34m,\u001b[0m \u001b[0mend\u001b[0m\u001b[0;34m,\u001b[0m \u001b[0mfilename\u001b[0m\u001b[0;34m=\u001b[0m\u001b[0;34m'MET10.pdf'\u001b[0m\u001b[0;34m)\u001b[0m\u001b[0;34m\u001b[0m\u001b[0;34m\u001b[0m\u001b[0m\n\u001b[0m",
      "\u001b[0;32m~/mount/githubRoboCOP/RoboCOP/pkg/robocop_diff/robocop_diff_plot.py\u001b[0m in \u001b[0;36mplot_diff_cop\u001b[0;34m(dirname, dirnames, chrm, start, end, save, figsize, ncol_tf, ncol_nuc, filename)\u001b[0m\n\u001b[1;32m    246\u001b[0m \u001b[0;34m\u001b[0m\u001b[0m\n\u001b[1;32m    247\u001b[0m     \u001b[0mrobocop_axes\u001b[0m \u001b[0;34m=\u001b[0m \u001b[0;34m[\u001b[0m\u001b[0max\u001b[0m\u001b[0;34m[\u001b[0m\u001b[0;36m4\u001b[0m \u001b[0;34m*\u001b[0m \u001b[0mi\u001b[0m \u001b[0;34m+\u001b[0m \u001b[0;36m2\u001b[0m \u001b[0;34m+\u001b[0m \u001b[0;36m2\u001b[0m\u001b[0;34m]\u001b[0m \u001b[0;32mfor\u001b[0m \u001b[0mi\u001b[0m \u001b[0;32min\u001b[0m \u001b[0mrange\u001b[0m\u001b[0;34m(\u001b[0m\u001b[0mlen\u001b[0m\u001b[0;34m(\u001b[0m\u001b[0mdirnames\u001b[0m\u001b[0;34m)\u001b[0m\u001b[0;34m)\u001b[0m\u001b[0;34m]\u001b[0m\u001b[0;34m\u001b[0m\u001b[0;34m\u001b[0m\u001b[0m\n\u001b[0;32m--> 248\u001b[0;31m     \u001b[0mmnase2d_axes\u001b[0m \u001b[0;34m=\u001b[0m \u001b[0;34m[\u001b[0m\u001b[0max\u001b[0m\u001b[0;34m[\u001b[0m\u001b[0;36m4\u001b[0m \u001b[0;34m*\u001b[0m \u001b[0mi\u001b[0m \u001b[0;34m+\u001b[0m \u001b[0;36m0\u001b[0m \u001b[0;34m+\u001b[0m \u001b[0;36m2\u001b[0m\u001b[0;34m]\u001b[0m \u001b[0;32mfor\u001b[0m \u001b[0mi\u001b[0m \u001b[0;32min\u001b[0m \u001b[0mrange\u001b[0m\u001b[0;34m(\u001b[0m\u001b[0mlen\u001b[0m\u001b[0;34m(\u001b[0m\u001b[0mdirnames\u001b[0m\u001b[0;34m)\u001b[0m\u001b[0;34m)\u001b[0m\u001b[0;34m]\u001b[0m\u001b[0;34m\u001b[0m\u001b[0;34m\u001b[0m\u001b[0m\n\u001b[0m\u001b[1;32m    249\u001b[0m     \u001b[0mmnase1d_axes\u001b[0m \u001b[0;34m=\u001b[0m \u001b[0;34m[\u001b[0m\u001b[0max\u001b[0m\u001b[0;34m[\u001b[0m\u001b[0;36m4\u001b[0m \u001b[0;34m*\u001b[0m \u001b[0mi\u001b[0m \u001b[0;34m+\u001b[0m \u001b[0;36m1\u001b[0m \u001b[0;34m+\u001b[0m \u001b[0;36m2\u001b[0m\u001b[0;34m]\u001b[0m \u001b[0;32mfor\u001b[0m \u001b[0mi\u001b[0m \u001b[0;32min\u001b[0m \u001b[0mrange\u001b[0m\u001b[0;34m(\u001b[0m\u001b[0mlen\u001b[0m\u001b[0;34m(\u001b[0m\u001b[0mdirnames\u001b[0m\u001b[0;34m)\u001b[0m\u001b[0;34m)\u001b[0m\u001b[0;34m]\u001b[0m\u001b[0;34m\u001b[0m\u001b[0;34m\u001b[0m\u001b[0m\n\u001b[1;32m    250\u001b[0m     \u001b[0mempty_axes\u001b[0m \u001b[0;34m=\u001b[0m \u001b[0;34m[\u001b[0m\u001b[0max\u001b[0m\u001b[0;34m[\u001b[0m\u001b[0;36m1\u001b[0m\u001b[0;34m]\u001b[0m\u001b[0;34m]\u001b[0m \u001b[0;34m+\u001b[0m \u001b[0;34m[\u001b[0m\u001b[0max\u001b[0m\u001b[0;34m[\u001b[0m\u001b[0;36m4\u001b[0m \u001b[0;34m*\u001b[0m \u001b[0mi\u001b[0m \u001b[0;34m+\u001b[0m \u001b[0;36m3\u001b[0m \u001b[0;34m+\u001b[0m \u001b[0;36m2\u001b[0m\u001b[0;34m]\u001b[0m \u001b[0;32mfor\u001b[0m \u001b[0mi\u001b[0m \u001b[0;32min\u001b[0m \u001b[0mrange\u001b[0m\u001b[0;34m(\u001b[0m\u001b[0mlen\u001b[0m\u001b[0;34m(\u001b[0m\u001b[0mdirnames\u001b[0m\u001b[0;34m)\u001b[0m\u001b[0;34m)\u001b[0m\u001b[0;34m]\u001b[0m\u001b[0;34m\u001b[0m\u001b[0;34m\u001b[0m\u001b[0m\n",
      "\u001b[0;32m~/mount/githubRoboCOP/RoboCOP/pkg/robocop_diff/robocop_diff_plot.py\u001b[0m in \u001b[0;36mget_info_robocop\u001b[0;34m(outDir, chrm, start, end)\u001b[0m\n\u001b[1;32m     29\u001b[0m     \u001b[0;31m# to get the hmmconfig file\u001b[0m\u001b[0;34m\u001b[0m\u001b[0;34m\u001b[0m\u001b[0;34m\u001b[0m\u001b[0m\n\u001b[1;32m     30\u001b[0m \u001b[0;34m\u001b[0m\u001b[0m\n\u001b[0;32m---> 31\u001b[0;31m     \u001b[0mhmmconfigfile\u001b[0m \u001b[0;34m=\u001b[0m \u001b[0mconfig\u001b[0m\u001b[0;34m.\u001b[0m\u001b[0mget\u001b[0m\u001b[0;34m(\u001b[0m\u001b[0;34m\"main\"\u001b[0m\u001b[0;34m,\u001b[0m \u001b[0;34m\"trainDir\"\u001b[0m\u001b[0;34m)\u001b[0m \u001b[0;34m+\u001b[0m \u001b[0;34m\"/HMMconfig.pkl\"\u001b[0m\u001b[0;34m\u001b[0m\u001b[0;34m\u001b[0m\u001b[0m\n\u001b[0m\u001b[1;32m     32\u001b[0m \u001b[0;34m\u001b[0m\u001b[0m\n\u001b[1;32m     33\u001b[0m     \u001b[0mtech\u001b[0m \u001b[0;34m=\u001b[0m \u001b[0mconfig\u001b[0m\u001b[0;34m.\u001b[0m\u001b[0mget\u001b[0m\u001b[0;34m(\u001b[0m\u001b[0;34m\"main\"\u001b[0m\u001b[0;34m,\u001b[0m \u001b[0;34m\"tech\"\u001b[0m\u001b[0;34m)\u001b[0m\u001b[0;34m\u001b[0m\u001b[0;34m\u001b[0m\u001b[0m\n",
      "\u001b[0;32m/usr/local/Cellar/python@3.8/3.8.5/Frameworks/Python.framework/Versions/3.8/lib/python3.8/configparser.py\u001b[0m in \u001b[0;36mget\u001b[0;34m(self, section, option, raw, vars, fallback)\u001b[0m\n\u001b[1;32m    779\u001b[0m         \"\"\"\n\u001b[1;32m    780\u001b[0m         \u001b[0;32mtry\u001b[0m\u001b[0;34m:\u001b[0m\u001b[0;34m\u001b[0m\u001b[0;34m\u001b[0m\u001b[0m\n\u001b[0;32m--> 781\u001b[0;31m             \u001b[0md\u001b[0m \u001b[0;34m=\u001b[0m \u001b[0mself\u001b[0m\u001b[0;34m.\u001b[0m\u001b[0m_unify_values\u001b[0m\u001b[0;34m(\u001b[0m\u001b[0msection\u001b[0m\u001b[0;34m,\u001b[0m \u001b[0mvars\u001b[0m\u001b[0;34m)\u001b[0m\u001b[0;34m\u001b[0m\u001b[0;34m\u001b[0m\u001b[0m\n\u001b[0m\u001b[1;32m    782\u001b[0m         \u001b[0;32mexcept\u001b[0m \u001b[0mNoSectionError\u001b[0m\u001b[0;34m:\u001b[0m\u001b[0;34m\u001b[0m\u001b[0;34m\u001b[0m\u001b[0m\n\u001b[1;32m    783\u001b[0m             \u001b[0;32mif\u001b[0m \u001b[0mfallback\u001b[0m \u001b[0;32mis\u001b[0m \u001b[0m_UNSET\u001b[0m\u001b[0;34m:\u001b[0m\u001b[0;34m\u001b[0m\u001b[0;34m\u001b[0m\u001b[0m\n",
      "\u001b[0;32m/usr/local/Cellar/python@3.8/3.8.5/Frameworks/Python.framework/Versions/3.8/lib/python3.8/configparser.py\u001b[0m in \u001b[0;36m_unify_values\u001b[0;34m(self, section, vars)\u001b[0m\n\u001b[1;32m   1147\u001b[0m         \u001b[0;32mexcept\u001b[0m \u001b[0mKeyError\u001b[0m\u001b[0;34m:\u001b[0m\u001b[0;34m\u001b[0m\u001b[0;34m\u001b[0m\u001b[0m\n\u001b[1;32m   1148\u001b[0m             \u001b[0;32mif\u001b[0m \u001b[0msection\u001b[0m \u001b[0;34m!=\u001b[0m \u001b[0mself\u001b[0m\u001b[0;34m.\u001b[0m\u001b[0mdefault_section\u001b[0m\u001b[0;34m:\u001b[0m\u001b[0;34m\u001b[0m\u001b[0;34m\u001b[0m\u001b[0m\n\u001b[0;32m-> 1149\u001b[0;31m                 \u001b[0;32mraise\u001b[0m \u001b[0mNoSectionError\u001b[0m\u001b[0;34m(\u001b[0m\u001b[0msection\u001b[0m\u001b[0;34m)\u001b[0m \u001b[0;32mfrom\u001b[0m \u001b[0;32mNone\u001b[0m\u001b[0;34m\u001b[0m\u001b[0;34m\u001b[0m\u001b[0m\n\u001b[0m\u001b[1;32m   1150\u001b[0m         \u001b[0;31m# Update with the entry specific variables\u001b[0m\u001b[0;34m\u001b[0m\u001b[0;34m\u001b[0m\u001b[0;34m\u001b[0m\u001b[0m\n\u001b[1;32m   1151\u001b[0m         \u001b[0mvardict\u001b[0m \u001b[0;34m=\u001b[0m \u001b[0;34m{\u001b[0m\u001b[0;34m}\u001b[0m\u001b[0;34m\u001b[0m\u001b[0;34m\u001b[0m\u001b[0m\n",
      "\u001b[0;31mNoSectionError\u001b[0m: No section: 'main'"
     ]
    }
   ],
   "source": [
    "chrm = 'chrVI'\n",
    "start = 212000                                                                                                                                                                         \n",
    "end = 213800                                                                                                                                                                         \n",
    "plot_diff_cop(outdir, dirnames, chrm, start, end, filename='MET10.pdf')"
   ]
  },
  {
   "cell_type": "code",
   "execution_count": null,
   "metadata": {},
   "outputs": [],
   "source": []
  }
 ],
 "metadata": {
  "kernelspec": {
   "display_name": "Python 3",
   "language": "python",
   "name": "python3"
  },
  "language_info": {
   "codemirror_mode": {
    "name": "ipython",
    "version": 3
   },
   "file_extension": ".py",
   "mimetype": "text/x-python",
   "name": "python",
   "nbconvert_exporter": "python",
   "pygments_lexer": "ipython3",
   "version": "3.8.5"
  }
 },
 "nbformat": 4,
 "nbformat_minor": 4
}
